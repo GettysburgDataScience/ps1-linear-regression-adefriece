{
 "cells": [
  {
   "cell_type": "markdown",
   "metadata": {},
   "source": [
    "YOUR FULL NAME\n",
    "\n",
    " - Collaborator 1\n",
    " - Collaborator 2\n",
    " - etc"
   ]
  },
  {
   "cell_type": "markdown",
   "metadata": {},
   "source": [
    "DS325, Gettysburg College, Professor Eatai Roth\n",
    "# Problem Set 1 - Linear Regression\n",
    "\n",
    "Due Friday Feb 13, 2025 11:30a\n",
    "\n",
    "Total pts: 20\n",
    "\n",
    "## IMPORTANT INSTRUCTIONS:\n",
    "\n",
    " - When you submit your code, make sure that every cell runs without returning an error.\n",
    " - Once you have the results you need, edit out any extraneous code and outputs.\n",
    " - Do not rewrite code if it doesn't need to be rewritten. For example, all the import statements you should need are in the first code block. Do not redo those in your analysis."
   ]
  },
  {
   "cell_type": "markdown",
   "metadata": {},
   "source": [
    "## Problem 1\n",
    "\n",
    " - Fit a linear regression model to the following synthetic data.\n",
    " - Calculate R^2 and MSE for your best fit model."
   ]
  },
  {
   "cell_type": "code",
   "execution_count": 34,
   "metadata": {},
   "outputs": [],
   "source": [
    "import pandas as pd\n",
    "import numpy as np\n",
    "import sklearn as sk\n",
    "\n",
    "from sklearn.datasets import make_regression\n",
    "from sklearn.model_selection import train_test_split\n",
    "from sklearn.linear_model import LinearRegression\n",
    "from sklearn.metrics import mean_squared_error\n",
    "\n",
    "import matplotlib.pyplot as plt\n",
    "import seaborn as sns \n"
   ]
  },
  {
   "cell_type": "code",
   "execution_count": 35,
   "metadata": {},
   "outputs": [],
   "source": [
    "def print_model(bias, Theta, X_names, model_name = None):\n",
    "    # A function to print the equation of a linear model\n",
    "    if model_name is None:\n",
    "        model_str = f'y ='\n",
    "    else:\n",
    "        model_str = f'{model_name}:\\n y ='\n",
    "\n",
    "    if not bias==0:\n",
    "        model_str += f' {bias:.2f}'\n",
    "        \n",
    "    for theta, x in zip(Theta, X_names):\n",
    "        if theta==0:\n",
    "            continue\n",
    "        else:\n",
    "            model_str+= f' + {theta:.2f}*{x}'\n",
    "    print(model_str)"
   ]
  },
  {
   "cell_type": "code",
   "execution_count": 36,
   "metadata": {},
   "outputs": [
    {
     "data": {
      "text/html": [
       "<div>\n",
       "<style scoped>\n",
       "    .dataframe tbody tr th:only-of-type {\n",
       "        vertical-align: middle;\n",
       "    }\n",
       "\n",
       "    .dataframe tbody tr th {\n",
       "        vertical-align: top;\n",
       "    }\n",
       "\n",
       "    .dataframe thead th {\n",
       "        text-align: right;\n",
       "    }\n",
       "</style>\n",
       "<table border=\"1\" class=\"dataframe\">\n",
       "  <thead>\n",
       "    <tr style=\"text-align: right;\">\n",
       "      <th></th>\n",
       "      <th>x1</th>\n",
       "      <th>x2</th>\n",
       "      <th>x3</th>\n",
       "      <th>x4</th>\n",
       "      <th>x5</th>\n",
       "      <th>y</th>\n",
       "    </tr>\n",
       "  </thead>\n",
       "  <tbody>\n",
       "    <tr>\n",
       "      <th>0</th>\n",
       "      <td>0.441227</td>\n",
       "      <td>-0.330870</td>\n",
       "      <td>2.430771</td>\n",
       "      <td>-0.252092</td>\n",
       "      <td>0.109610</td>\n",
       "      <td>244.349429</td>\n",
       "    </tr>\n",
       "    <tr>\n",
       "      <th>1</th>\n",
       "      <td>1.582481</td>\n",
       "      <td>-0.909232</td>\n",
       "      <td>-0.591637</td>\n",
       "      <td>0.187603</td>\n",
       "      <td>-0.329870</td>\n",
       "      <td>-66.739816</td>\n",
       "    </tr>\n",
       "    <tr>\n",
       "      <th>2</th>\n",
       "      <td>-1.192765</td>\n",
       "      <td>-0.204877</td>\n",
       "      <td>-0.358829</td>\n",
       "      <td>0.603472</td>\n",
       "      <td>-1.664789</td>\n",
       "      <td>-154.409110</td>\n",
       "    </tr>\n",
       "    <tr>\n",
       "      <th>3</th>\n",
       "      <td>-0.700179</td>\n",
       "      <td>1.151391</td>\n",
       "      <td>1.857331</td>\n",
       "      <td>-1.511180</td>\n",
       "      <td>0.644848</td>\n",
       "      <td>194.236600</td>\n",
       "    </tr>\n",
       "    <tr>\n",
       "      <th>4</th>\n",
       "      <td>-0.980608</td>\n",
       "      <td>-0.856853</td>\n",
       "      <td>-0.871879</td>\n",
       "      <td>-0.422508</td>\n",
       "      <td>0.996440</td>\n",
       "      <td>-87.092471</td>\n",
       "    </tr>\n",
       "    <tr>\n",
       "      <th>...</th>\n",
       "      <td>...</td>\n",
       "      <td>...</td>\n",
       "      <td>...</td>\n",
       "      <td>...</td>\n",
       "      <td>...</td>\n",
       "      <td>...</td>\n",
       "    </tr>\n",
       "    <tr>\n",
       "      <th>295</th>\n",
       "      <td>0.423162</td>\n",
       "      <td>-0.988746</td>\n",
       "      <td>0.741750</td>\n",
       "      <td>1.130381</td>\n",
       "      <td>-0.189154</td>\n",
       "      <td>67.307896</td>\n",
       "    </tr>\n",
       "    <tr>\n",
       "      <th>296</th>\n",
       "      <td>-2.075862</td>\n",
       "      <td>-0.911934</td>\n",
       "      <td>0.037560</td>\n",
       "      <td>0.697767</td>\n",
       "      <td>-0.506700</td>\n",
       "      <td>-90.781843</td>\n",
       "    </tr>\n",
       "    <tr>\n",
       "      <th>297</th>\n",
       "      <td>1.006915</td>\n",
       "      <td>-0.513603</td>\n",
       "      <td>-1.360830</td>\n",
       "      <td>0.438510</td>\n",
       "      <td>-0.675455</td>\n",
       "      <td>-150.392513</td>\n",
       "    </tr>\n",
       "    <tr>\n",
       "      <th>298</th>\n",
       "      <td>1.310846</td>\n",
       "      <td>1.089519</td>\n",
       "      <td>-0.400579</td>\n",
       "      <td>-0.621525</td>\n",
       "      <td>0.217709</td>\n",
       "      <td>11.909130</td>\n",
       "    </tr>\n",
       "    <tr>\n",
       "      <th>299</th>\n",
       "      <td>1.133511</td>\n",
       "      <td>0.131756</td>\n",
       "      <td>-0.128005</td>\n",
       "      <td>1.075307</td>\n",
       "      <td>0.665557</td>\n",
       "      <td>49.345572</td>\n",
       "    </tr>\n",
       "  </tbody>\n",
       "</table>\n",
       "<p>300 rows × 6 columns</p>\n",
       "</div>"
      ],
      "text/plain": [
       "           x1        x2        x3        x4        x5           y\n",
       "0    0.441227 -0.330870  2.430771 -0.252092  0.109610  244.349429\n",
       "1    1.582481 -0.909232 -0.591637  0.187603 -0.329870  -66.739816\n",
       "2   -1.192765 -0.204877 -0.358829  0.603472 -1.664789 -154.409110\n",
       "3   -0.700179  1.151391  1.857331 -1.511180  0.644848  194.236600\n",
       "4   -0.980608 -0.856853 -0.871879 -0.422508  0.996440  -87.092471\n",
       "..        ...       ...       ...       ...       ...         ...\n",
       "295  0.423162 -0.988746  0.741750  1.130381 -0.189154   67.307896\n",
       "296 -2.075862 -0.911934  0.037560  0.697767 -0.506700  -90.781843\n",
       "297  1.006915 -0.513603 -1.360830  0.438510 -0.675455 -150.392513\n",
       "298  1.310846  1.089519 -0.400579 -0.621525  0.217709   11.909130\n",
       "299  1.133511  0.131756 -0.128005  1.075307  0.665557   49.345572\n",
       "\n",
       "[300 rows x 6 columns]"
      ]
     },
     "execution_count": 36,
     "metadata": {},
     "output_type": "execute_result"
    }
   ],
   "source": [
    "np.random.seed(15)\n",
    "bias = 20*np.random.randn()\n",
    "\n",
    "X, y, coef = sk.datasets.make_regression(n_samples=300, \n",
    "                                   n_features=5,    # n_features = 5 --> simple linear regression\n",
    "                                   noise=10, \n",
    "                                   bias = bias, \n",
    "                                   random_state=5, \n",
    "                                   shuffle = False, # samples will be in order\n",
    "                                   coef = True) \n",
    "\n",
    "column_names = [f'x{n+1}' for n in range(X.shape[1])]\n",
    "reg_df = pd.DataFrame(data = X, \n",
    "             columns = column_names)\n",
    "reg_df['y'] = y\n",
    "\n",
    "reg_df"
   ]
  },
  {
   "cell_type": "code",
   "execution_count": 37,
   "metadata": {},
   "outputs": [
    {
     "data": {
      "text/plain": [
       "(240, 5)"
      ]
     },
     "execution_count": 37,
     "metadata": {},
     "output_type": "execute_result"
    }
   ],
   "source": [
    "X_train, X_test, y_train, y_test = train_test_split(X, y, test_size = 0.2, random_state= 9)\n",
    "X_train.shape"
   ]
  },
  {
   "cell_type": "code",
   "execution_count": 38,
   "metadata": {},
   "outputs": [
    {
     "name": "stdout",
     "output_type": "stream",
     "text": [
      "{'fit_intercept': True, 'copy_X': True, 'n_jobs': None, 'positive': False, 'n_features_in_': 5, 'coef_': array([21.52476416, 21.0447652 , 95.89526884,  6.65896819, 49.20515152]), 'rank_': 5, 'singular_': array([17.14087565, 16.37959118, 15.55438107, 14.33062407, 13.89550251]), 'intercept_': -6.884670944255215}\n",
      "[21.87990264 21.20699885 96.62079325  6.92937604 48.31504389]\n"
     ]
    }
   ],
   "source": [
    "# splitting the data into training and testing sets\n",
    "X_train, X_test, y_train, y_test = train_test_split(X, y, test_size= 0.2, random_state= 9)\n",
    "\n",
    "#create and fit the model\n",
    "model_1 = LinearRegression()\n",
    "model_1.fit(X_train, y_train)\n",
    "\n",
    "y_pred_train = model_1.predict(X_train)\n",
    "y_pred_test = model_1.predict(X_test)\n",
    "\n",
    "R2_train = model_1.score(X_train, y_train)\n",
    "R2_test = model_1.score(X_test, y_test)\n",
    "\n",
    "MSE_train = mean_squared_error(y_train, y_pred_train)\n",
    "MSW_test = mean_squared_error(y_test, y_pred_test) \n",
    "\n",
    "print(model_1.__dict__)\n",
    "print(coef)"
   ]
  },
  {
   "cell_type": "markdown",
   "metadata": {},
   "source": [
    "#### Your written answers here\n",
    "\n",
    "What are your model parameters?\n",
    " - find signif. try to find high correlation\n",
    "\n",
    "What were your MSE and R^2?\n",
    " - \n",
    "\n"
   ]
  },
  {
   "cell_type": "markdown",
   "metadata": {},
   "source": [
    "## Problem 2\n",
    "\n",
    "Multiple Regression with Synthetic Data and Co-linearity\n",
    "\n",
    " - Show the correlation matrix for the 10 variables and the target variable.\n",
    " - Fit a linear regression model to the following synthetic data.\n",
    " - Calculate R^2 and MSE for your best fit model."
   ]
  },
  {
   "cell_type": "code",
   "execution_count": 39,
   "metadata": {},
   "outputs": [
    {
     "name": "stdout",
     "output_type": "stream",
     "text": [
      "True Model:\n",
      " y = -15.62 + 55.43*x1 + 77.93*x2 + 94.15*x3 + 16.29*x4 + 57.11*x5 + 79.90*x6\n"
     ]
    }
   ],
   "source": [
    "np.random.seed(15)\n",
    "bias = 50*np.random.randn()\n",
    "\n",
    "X, y, coef = sk.datasets.make_regression(n_samples=300, \n",
    "                                   n_features=9,    # n_features = 10 --> multiple linear regression\n",
    "                                   noise=3, \n",
    "                                   bias = bias, \n",
    "                                   n_informative = 6,\n",
    "                                   effective_rank = 6,\n",
    "                                   random_state=15, \n",
    "                                   shuffle = False, # samples will be in order\n",
    "                                   coef = True)\n",
    "\n",
    "Xa = (0.6*X[:, 2] + 0.4*X[:, 5]).reshape(-1, 1)\n",
    "X = np.hstack([X, Xa])\n",
    "coef = np.append(coef, 0)\n",
    "\n",
    "column_names = [f'x{n+1}' for n in range(X.shape[1])]\n",
    "reg2_df = pd.DataFrame(data = X, \n",
    "             columns = column_names)\n",
    "reg2_df['y'] = y\n",
    "\n",
    "print_model(bias, coef, column_names, model_name = 'True Model')"
   ]
  },
  {
   "cell_type": "code",
   "execution_count": 40,
   "metadata": {},
   "outputs": [
    {
     "data": {
      "text/html": [
       "<div>\n",
       "<style scoped>\n",
       "    .dataframe tbody tr th:only-of-type {\n",
       "        vertical-align: middle;\n",
       "    }\n",
       "\n",
       "    .dataframe tbody tr th {\n",
       "        vertical-align: top;\n",
       "    }\n",
       "\n",
       "    .dataframe thead th {\n",
       "        text-align: right;\n",
       "    }\n",
       "</style>\n",
       "<table border=\"1\" class=\"dataframe\">\n",
       "  <thead>\n",
       "    <tr style=\"text-align: right;\">\n",
       "      <th></th>\n",
       "      <th>x1</th>\n",
       "      <th>x2</th>\n",
       "      <th>x3</th>\n",
       "      <th>x4</th>\n",
       "      <th>x5</th>\n",
       "      <th>x6</th>\n",
       "      <th>x7</th>\n",
       "      <th>x8</th>\n",
       "      <th>x9</th>\n",
       "      <th>x10</th>\n",
       "      <th>y</th>\n",
       "    </tr>\n",
       "  </thead>\n",
       "  <tbody>\n",
       "    <tr>\n",
       "      <th>0</th>\n",
       "      <td>-0.019007</td>\n",
       "      <td>-0.081434</td>\n",
       "      <td>-0.014396</td>\n",
       "      <td>0.005781</td>\n",
       "      <td>0.041543</td>\n",
       "      <td>-0.030161</td>\n",
       "      <td>0.001037</td>\n",
       "      <td>-0.024288</td>\n",
       "      <td>-0.004252</td>\n",
       "      <td>-0.020702</td>\n",
       "      <td>-25.236430</td>\n",
       "    </tr>\n",
       "    <tr>\n",
       "      <th>1</th>\n",
       "      <td>0.008066</td>\n",
       "      <td>0.007271</td>\n",
       "      <td>-0.012255</td>\n",
       "      <td>-0.062581</td>\n",
       "      <td>0.032108</td>\n",
       "      <td>0.030362</td>\n",
       "      <td>-0.005309</td>\n",
       "      <td>-0.017288</td>\n",
       "      <td>0.012837</td>\n",
       "      <td>0.004792</td>\n",
       "      <td>-12.537903</td>\n",
       "    </tr>\n",
       "    <tr>\n",
       "      <th>2</th>\n",
       "      <td>0.032845</td>\n",
       "      <td>-0.063578</td>\n",
       "      <td>-0.009525</td>\n",
       "      <td>0.020147</td>\n",
       "      <td>-0.019702</td>\n",
       "      <td>-0.053699</td>\n",
       "      <td>-0.011607</td>\n",
       "      <td>-0.039859</td>\n",
       "      <td>-0.024391</td>\n",
       "      <td>-0.027195</td>\n",
       "      <td>-22.264183</td>\n",
       "    </tr>\n",
       "    <tr>\n",
       "      <th>3</th>\n",
       "      <td>-0.009999</td>\n",
       "      <td>-0.125704</td>\n",
       "      <td>0.015806</td>\n",
       "      <td>-0.008291</td>\n",
       "      <td>-0.057393</td>\n",
       "      <td>-0.063838</td>\n",
       "      <td>-0.005211</td>\n",
       "      <td>0.097825</td>\n",
       "      <td>-0.033332</td>\n",
       "      <td>-0.016052</td>\n",
       "      <td>-37.087455</td>\n",
       "    </tr>\n",
       "    <tr>\n",
       "      <th>4</th>\n",
       "      <td>-0.004742</td>\n",
       "      <td>0.057318</td>\n",
       "      <td>0.009264</td>\n",
       "      <td>-0.047371</td>\n",
       "      <td>0.032000</td>\n",
       "      <td>-0.038891</td>\n",
       "      <td>-0.037838</td>\n",
       "      <td>-0.076428</td>\n",
       "      <td>0.050613</td>\n",
       "      <td>-0.009998</td>\n",
       "      <td>-14.858578</td>\n",
       "    </tr>\n",
       "  </tbody>\n",
       "</table>\n",
       "</div>"
      ],
      "text/plain": [
       "         x1        x2        x3        x4        x5        x6        x7  \\\n",
       "0 -0.019007 -0.081434 -0.014396  0.005781  0.041543 -0.030161  0.001037   \n",
       "1  0.008066  0.007271 -0.012255 -0.062581  0.032108  0.030362 -0.005309   \n",
       "2  0.032845 -0.063578 -0.009525  0.020147 -0.019702 -0.053699 -0.011607   \n",
       "3 -0.009999 -0.125704  0.015806 -0.008291 -0.057393 -0.063838 -0.005211   \n",
       "4 -0.004742  0.057318  0.009264 -0.047371  0.032000 -0.038891 -0.037838   \n",
       "\n",
       "         x8        x9       x10          y  \n",
       "0 -0.024288 -0.004252 -0.020702 -25.236430  \n",
       "1 -0.017288  0.012837  0.004792 -12.537903  \n",
       "2 -0.039859 -0.024391 -0.027195 -22.264183  \n",
       "3  0.097825 -0.033332 -0.016052 -37.087455  \n",
       "4 -0.076428  0.050613 -0.009998 -14.858578  "
      ]
     },
     "execution_count": 40,
     "metadata": {},
     "output_type": "execute_result"
    }
   ],
   "source": [
    "reg2_df.head()"
   ]
  },
  {
   "cell_type": "code",
   "execution_count": 41,
   "metadata": {},
   "outputs": [
    {
     "data": {
      "text/plain": [
       "<function matplotlib.pyplot.show(close=None, block=None)>"
      ]
     },
     "execution_count": 41,
     "metadata": {},
     "output_type": "execute_result"
    },
    {
     "data": {
      "image/png": "[encoded data removed]",
      "text/plain": [
       "<Figure size 640x480 with 2 Axes>"
      ]
     },
     "metadata": {},
     "output_type": "display_data"
    }
   ],
   "source": [
    "corr = reg2_df.corr()\n",
    "sns.heatmap(corr, annot = True)\n",
    "plt.show"
   ]
  },
  {
   "cell_type": "code",
   "execution_count": 42,
   "metadata": {},
   "outputs": [
    {
     "name": "stdout",
     "output_type": "stream",
     "text": [
      "R2 train 0.86\n",
      "R2 test 0.89\n"
     ]
    }
   ],
   "source": [
    "candidate_idx = np.array([1, 2, 3, 4, 5, 6, 10])-1\n",
    "\n",
    "Z = X[:, candidate_idx]\n",
    "Z_names = [column_names[idx] for idx in candidate_idx]\n",
    "\n",
    "Z_train, Z_test, y_train, y_test = train_test_split(Z, y, test_size=0.2)\n",
    "model_LR = LinearRegression()\n",
    "model_LR.fit(Z_train, y_train)\n",
    "\n",
    "R2_train = model_LR.score(Z_train, y_train)\n",
    "R2_test = model_LR.score(Z_test, y_test)\n",
    "\n",
    "print(f'R2 train {R2_train:.2f}\\nR2 test {R2_test:.2f}')"
   ]
  },
  {
   "cell_type": "markdown",
   "metadata": {},
   "source": [
    "#### Your written answers here\n",
    "\n",
    "What are your model parameters?\n",
    " - \n",
    "\n",
    "Which features (x1, x2...) were significant? Which were co-linear?\n",
    " - \n",
    " \n",
    "What were your MSE and R^2?\n",
    " - \n",
    "\n"
   ]
  },
  {
   "cell_type": "markdown",
   "metadata": {},
   "source": [
    "## Problem 3\n",
    "\n",
    "For this problem, you'll using housing data from King County, Washington (included as kc_housing.csv).\n",
    "\n",
    "You should refer to the class notebook."
   ]
  },
  {
   "cell_type": "code",
   "execution_count": 43,
   "metadata": {},
   "outputs": [
    {
     "ename": "FileNotFoundError",
     "evalue": "[Errno 2] No such file or directory: 'kc_house_data.csv'",
     "output_type": "error",
     "traceback": [
      "\u001b[1;31m---------------------------------------------------------------------------\u001b[0m",
      "\u001b[1;31mFileNotFoundError\u001b[0m                         Traceback (most recent call last)",
      "Cell \u001b[1;32mIn[43], line 1\u001b[0m\n\u001b[1;32m----> 1\u001b[0m housing_df \u001b[38;5;241m=\u001b[39m pd\u001b[38;5;241m.\u001b[39mread_csv(\u001b[38;5;124m'\u001b[39m\u001b[38;5;124mkc_house_data.csv\u001b[39m\u001b[38;5;124m'\u001b[39m)\n\u001b[0;32m      2\u001b[0m housing_df\u001b[38;5;241m.\u001b[39mdrop(columns\u001b[38;5;241m=\u001b[39m[\u001b[38;5;124m'\u001b[39m\u001b[38;5;124mid\u001b[39m\u001b[38;5;124m'\u001b[39m, \u001b[38;5;124m'\u001b[39m\u001b[38;5;124mdate\u001b[39m\u001b[38;5;124m'\u001b[39m, \u001b[38;5;124m'\u001b[39m\u001b[38;5;124mzipcode\u001b[39m\u001b[38;5;124m'\u001b[39m], inplace\u001b[38;5;241m=\u001b[39m\u001b[38;5;28;01mTrue\u001b[39;00m)\n\u001b[0;32m      3\u001b[0m housing_df\u001b[38;5;241m.\u001b[39mhead()\n",
      "File \u001b[1;32mc:\\Users\\17173\\anaconda3\\Lib\\site-packages\\pandas\\io\\parsers\\readers.py:1026\u001b[0m, in \u001b[0;36mread_csv\u001b[1;34m(filepath_or_buffer, sep, delimiter, header, names, index_col, usecols, dtype, engine, converters, true_values, false_values, skipinitialspace, skiprows, skipfooter, nrows, na_values, keep_default_na, na_filter, verbose, skip_blank_lines, parse_dates, infer_datetime_format, keep_date_col, date_parser, date_format, dayfirst, cache_dates, iterator, chunksize, compression, thousands, decimal, lineterminator, quotechar, quoting, doublequote, escapechar, comment, encoding, encoding_errors, dialect, on_bad_lines, delim_whitespace, low_memory, memory_map, float_precision, storage_options, dtype_backend)\u001b[0m\n\u001b[0;32m   1013\u001b[0m kwds_defaults \u001b[38;5;241m=\u001b[39m _refine_defaults_read(\n\u001b[0;32m   1014\u001b[0m     dialect,\n\u001b[0;32m   1015\u001b[0m     delimiter,\n\u001b[1;32m   (...)\u001b[0m\n\u001b[0;32m   1022\u001b[0m     dtype_backend\u001b[38;5;241m=\u001b[39mdtype_backend,\n\u001b[0;32m   1023\u001b[0m )\n\u001b[0;32m   1024\u001b[0m kwds\u001b[38;5;241m.\u001b[39mupdate(kwds_defaults)\n\u001b[1;32m-> 1026\u001b[0m \u001b[38;5;28;01mreturn\u001b[39;00m _read(filepath_or_buffer, kwds)\n",
      "File \u001b[1;32mc:\\Users\\17173\\anaconda3\\Lib\\site-packages\\pandas\\io\\parsers\\readers.py:620\u001b[0m, in \u001b[0;36m_read\u001b[1;34m(filepath_or_buffer, kwds)\u001b[0m\n\u001b[0;32m    617\u001b[0m _validate_names(kwds\u001b[38;5;241m.\u001b[39mget(\u001b[38;5;124m\"\u001b[39m\u001b[38;5;124mnames\u001b[39m\u001b[38;5;124m\"\u001b[39m, \u001b[38;5;28;01mNone\u001b[39;00m))\n\u001b[0;32m    619\u001b[0m \u001b[38;5;66;03m# Create the parser.\u001b[39;00m\n\u001b[1;32m--> 620\u001b[0m parser \u001b[38;5;241m=\u001b[39m TextFileReader(filepath_or_buffer, \u001b[38;5;241m*\u001b[39m\u001b[38;5;241m*\u001b[39mkwds)\n\u001b[0;32m    622\u001b[0m \u001b[38;5;28;01mif\u001b[39;00m chunksize \u001b[38;5;129;01mor\u001b[39;00m iterator:\n\u001b[0;32m    623\u001b[0m     \u001b[38;5;28;01mreturn\u001b[39;00m parser\n",
      "File \u001b[1;32mc:\\Users\\17173\\anaconda3\\Lib\\site-packages\\pandas\\io\\parsers\\readers.py:1620\u001b[0m, in \u001b[0;36mTextFileReader.__init__\u001b[1;34m(self, f, engine, **kwds)\u001b[0m\n\u001b[0;32m   1617\u001b[0m     \u001b[38;5;28mself\u001b[39m\u001b[38;5;241m.\u001b[39moptions[\u001b[38;5;124m\"\u001b[39m\u001b[38;5;124mhas_index_names\u001b[39m\u001b[38;5;124m\"\u001b[39m] \u001b[38;5;241m=\u001b[39m kwds[\u001b[38;5;124m\"\u001b[39m\u001b[38;5;124mhas_index_names\u001b[39m\u001b[38;5;124m\"\u001b[39m]\n\u001b[0;32m   1619\u001b[0m \u001b[38;5;28mself\u001b[39m\u001b[38;5;241m.\u001b[39mhandles: IOHandles \u001b[38;5;241m|\u001b[39m \u001b[38;5;28;01mNone\u001b[39;00m \u001b[38;5;241m=\u001b[39m \u001b[38;5;28;01mNone\u001b[39;00m\n\u001b[1;32m-> 1620\u001b[0m \u001b[38;5;28mself\u001b[39m\u001b[38;5;241m.\u001b[39m_engine \u001b[38;5;241m=\u001b[39m \u001b[38;5;28mself\u001b[39m\u001b[38;5;241m.\u001b[39m_make_engine(f, \u001b[38;5;28mself\u001b[39m\u001b[38;5;241m.\u001b[39mengine)\n",
      "File \u001b[1;32mc:\\Users\\17173\\anaconda3\\Lib\\site-packages\\pandas\\io\\parsers\\readers.py:1880\u001b[0m, in \u001b[0;36mTextFileReader._make_engine\u001b[1;34m(self, f, engine)\u001b[0m\n\u001b[0;32m   1878\u001b[0m     \u001b[38;5;28;01mif\u001b[39;00m \u001b[38;5;124m\"\u001b[39m\u001b[38;5;124mb\u001b[39m\u001b[38;5;124m\"\u001b[39m \u001b[38;5;129;01mnot\u001b[39;00m \u001b[38;5;129;01min\u001b[39;00m mode:\n\u001b[0;32m   1879\u001b[0m         mode \u001b[38;5;241m+\u001b[39m\u001b[38;5;241m=\u001b[39m \u001b[38;5;124m\"\u001b[39m\u001b[38;5;124mb\u001b[39m\u001b[38;5;124m\"\u001b[39m\n\u001b[1;32m-> 1880\u001b[0m \u001b[38;5;28mself\u001b[39m\u001b[38;5;241m.\u001b[39mhandles \u001b[38;5;241m=\u001b[39m get_handle(\n\u001b[0;32m   1881\u001b[0m     f,\n\u001b[0;32m   1882\u001b[0m     mode,\n\u001b[0;32m   1883\u001b[0m     encoding\u001b[38;5;241m=\u001b[39m\u001b[38;5;28mself\u001b[39m\u001b[38;5;241m.\u001b[39moptions\u001b[38;5;241m.\u001b[39mget(\u001b[38;5;124m\"\u001b[39m\u001b[38;5;124mencoding\u001b[39m\u001b[38;5;124m\"\u001b[39m, \u001b[38;5;28;01mNone\u001b[39;00m),\n\u001b[0;32m   1884\u001b[0m     compression\u001b[38;5;241m=\u001b[39m\u001b[38;5;28mself\u001b[39m\u001b[38;5;241m.\u001b[39moptions\u001b[38;5;241m.\u001b[39mget(\u001b[38;5;124m\"\u001b[39m\u001b[38;5;124mcompression\u001b[39m\u001b[38;5;124m\"\u001b[39m, \u001b[38;5;28;01mNone\u001b[39;00m),\n\u001b[0;32m   1885\u001b[0m     memory_map\u001b[38;5;241m=\u001b[39m\u001b[38;5;28mself\u001b[39m\u001b[38;5;241m.\u001b[39moptions\u001b[38;5;241m.\u001b[39mget(\u001b[38;5;124m\"\u001b[39m\u001b[38;5;124mmemory_map\u001b[39m\u001b[38;5;124m\"\u001b[39m, \u001b[38;5;28;01mFalse\u001b[39;00m),\n\u001b[0;32m   1886\u001b[0m     is_text\u001b[38;5;241m=\u001b[39mis_text,\n\u001b[0;32m   1887\u001b[0m     errors\u001b[38;5;241m=\u001b[39m\u001b[38;5;28mself\u001b[39m\u001b[38;5;241m.\u001b[39moptions\u001b[38;5;241m.\u001b[39mget(\u001b[38;5;124m\"\u001b[39m\u001b[38;5;124mencoding_errors\u001b[39m\u001b[38;5;124m\"\u001b[39m, \u001b[38;5;124m\"\u001b[39m\u001b[38;5;124mstrict\u001b[39m\u001b[38;5;124m\"\u001b[39m),\n\u001b[0;32m   1888\u001b[0m     storage_options\u001b[38;5;241m=\u001b[39m\u001b[38;5;28mself\u001b[39m\u001b[38;5;241m.\u001b[39moptions\u001b[38;5;241m.\u001b[39mget(\u001b[38;5;124m\"\u001b[39m\u001b[38;5;124mstorage_options\u001b[39m\u001b[38;5;124m\"\u001b[39m, \u001b[38;5;28;01mNone\u001b[39;00m),\n\u001b[0;32m   1889\u001b[0m )\n\u001b[0;32m   1890\u001b[0m \u001b[38;5;28;01massert\u001b[39;00m \u001b[38;5;28mself\u001b[39m\u001b[38;5;241m.\u001b[39mhandles \u001b[38;5;129;01mis\u001b[39;00m \u001b[38;5;129;01mnot\u001b[39;00m \u001b[38;5;28;01mNone\u001b[39;00m\n\u001b[0;32m   1891\u001b[0m f \u001b[38;5;241m=\u001b[39m \u001b[38;5;28mself\u001b[39m\u001b[38;5;241m.\u001b[39mhandles\u001b[38;5;241m.\u001b[39mhandle\n",
      "File \u001b[1;32mc:\\Users\\17173\\anaconda3\\Lib\\site-packages\\pandas\\io\\common.py:873\u001b[0m, in \u001b[0;36mget_handle\u001b[1;34m(path_or_buf, mode, encoding, compression, memory_map, is_text, errors, storage_options)\u001b[0m\n\u001b[0;32m    868\u001b[0m \u001b[38;5;28;01melif\u001b[39;00m \u001b[38;5;28misinstance\u001b[39m(handle, \u001b[38;5;28mstr\u001b[39m):\n\u001b[0;32m    869\u001b[0m     \u001b[38;5;66;03m# Check whether the filename is to be opened in binary mode.\u001b[39;00m\n\u001b[0;32m    870\u001b[0m     \u001b[38;5;66;03m# Binary mode does not support 'encoding' and 'newline'.\u001b[39;00m\n\u001b[0;32m    871\u001b[0m     \u001b[38;5;28;01mif\u001b[39;00m ioargs\u001b[38;5;241m.\u001b[39mencoding \u001b[38;5;129;01mand\u001b[39;00m \u001b[38;5;124m\"\u001b[39m\u001b[38;5;124mb\u001b[39m\u001b[38;5;124m\"\u001b[39m \u001b[38;5;129;01mnot\u001b[39;00m \u001b[38;5;129;01min\u001b[39;00m ioargs\u001b[38;5;241m.\u001b[39mmode:\n\u001b[0;32m    872\u001b[0m         \u001b[38;5;66;03m# Encoding\u001b[39;00m\n\u001b[1;32m--> 873\u001b[0m         handle \u001b[38;5;241m=\u001b[39m \u001b[38;5;28mopen\u001b[39m(\n\u001b[0;32m    874\u001b[0m             handle,\n\u001b[0;32m    875\u001b[0m             ioargs\u001b[38;5;241m.\u001b[39mmode,\n\u001b[0;32m    876\u001b[0m             encoding\u001b[38;5;241m=\u001b[39mioargs\u001b[38;5;241m.\u001b[39mencoding,\n\u001b[0;32m    877\u001b[0m             errors\u001b[38;5;241m=\u001b[39merrors,\n\u001b[0;32m    878\u001b[0m             newline\u001b[38;5;241m=\u001b[39m\u001b[38;5;124m\"\u001b[39m\u001b[38;5;124m\"\u001b[39m,\n\u001b[0;32m    879\u001b[0m         )\n\u001b[0;32m    880\u001b[0m     \u001b[38;5;28;01melse\u001b[39;00m:\n\u001b[0;32m    881\u001b[0m         \u001b[38;5;66;03m# Binary mode\u001b[39;00m\n\u001b[0;32m    882\u001b[0m         handle \u001b[38;5;241m=\u001b[39m \u001b[38;5;28mopen\u001b[39m(handle, ioargs\u001b[38;5;241m.\u001b[39mmode)\n",
      "\u001b[1;31mFileNotFoundError\u001b[0m: [Errno 2] No such file or directory: 'kc_house_data.csv'"
     ]
    }
   ],
   "source": [
    "housing_df = pd.read_csv('kc_house_data.csv')\n",
    "housing_df.drop(columns=['id', 'date', 'zipcode'], inplace=True)\n",
    "housing_df.head()"
   ]
  },
  {
   "cell_type": "markdown",
   "metadata": {},
   "source": [
    "### a. \n",
    "\n",
    "**Do this part before part b and then don't go back and change your responses.**\n",
    "\n",
    "- Select three features to use for a multiple linear regression and justify your choices.\n",
    "- Use the StandardScalar to scale your features. Fit a linear regression using those three features. What is your $R^2$?\n",
    "- Plot predicted home values and actual home values, including a line representing perfect prediction.\n"
   ]
  },
  {
   "cell_type": "code",
   "execution_count": null,
   "metadata": {},
   "outputs": [],
   "source": [
    "# Your code here. Add cells as needed.\n",
    "corr = housing_df.corr()\n",
    "\n",
    "sns.heatmap(np.abs(corr), annot = True, fmt = '.1f')\n",
    "plt.show()\n",
    "\n",
    "#look for high correlations down from your target"
   ]
  },
  {
   "cell_type": "code",
   "execution_count": null,
   "metadata": {},
   "outputs": [],
   "source": [
    "X = housing_df[['bathrooms', 'sqft_living', 'grade']]\n",
    "y = housing_df[['price']]\n",
    "\n",
    "X_train, X_test, y_train, y_test = train_test_split(X, y, test_size= 0.2)"
   ]
  },
  {
   "cell_type": "code",
   "execution_count": null,
   "metadata": {},
   "outputs": [],
   "source": [
    "from sklearn.preprocessing import StandardScaler\n",
    "\n",
    "ss = StandardScaler()\n",
    "ss.fit(X_train)\n",
    "\n",
    "X_scaled_train = ss.transform(X_train)\n",
    "X_scaled_test = ss.transform(X_test)\n",
    "\n",
    "model_linreg = LinearRegression()\n",
    "model_linreg.fit(X_scaled_train, y_train)\n"
   ]
  },
  {
   "cell_type": "markdown",
   "metadata": {},
   "source": [
    "#### Your written answers here\n",
    "Which features are you using and why?\n",
    " \n",
    " - Your written answer here."
   ]
  },
  {
   "cell_type": "markdown",
   "metadata": {},
   "source": [
    "### b. \n",
    "- Create a training and testing data using all the features except for price (that's the target), date, and zipcode. Once you have the dataframe of your features, save a list of column labels, ```feature_names = x.columns```.\n",
    "- Use Lasso or Ridge regression to fit the model and calculate the $R^2$. Play around with $\\alpha$ until you get $R^2 > 0.65$. Keep in mind that price is in the range of \\$100k-3M and the scaled features will be in the range of -2 to 2, so $\\alpha$ should be a big number.\n",
    "- Get the coefficients of the Ridge or Lasso model; their order corresponds to the feature labels you saved earlier. Find the 3 biggest (absolute value) coefficients. Which features are they? Look up ```np.argsort()```; this function returns the indices of a list once it's been sorted. \n",
    "- Plot predicted vs actual home prices for the regularized model. "
   ]
  },
  {
   "cell_type": "code",
   "execution_count": null,
   "metadata": {},
   "outputs": [],
   "source": [
    "from sklearn.linear_model import Lasso, Ridge\n",
    "\n",
    "# y = housing_df[['price']]\n",
    "X - housing_df.drop(columns = ['price'])\n",
    "\n",
    "X_train, X_test, y_train, y_test = train_test_split(x, y, test_size= 0.2)\n",
    "ss = StandardScaler()\n",
    "\n",
    "#missing steps for you to fill in\n",
    "model_lasso = Lasso(alpha=0.5) #bad fit make alpha smaller\n",
    "model_lasso.fit(X_scaled_train, y_train)"
   ]
  },
  {
   "cell_type": "markdown",
   "metadata": {},
   "source": [
    "### Your written answers here\n",
    "Which regression did you use?\n",
    " - Your answer\n",
    "\n",
    "Does your regularized model look better than your MLR? How so?\n",
    " - Your answer"
   ]
  },
  {
   "cell_type": "markdown",
   "metadata": {},
   "source": [
    "### c.\n",
    "It seems that our model over-valuates houses in the higher price range.\n",
    " - Split the data into homes below and above $1M sale price. \n",
    " - Fit a Lasso or Ridge model to each of the split data sets.\n",
    " - Plot predicted vs actual."
   ]
  },
  {
   "cell_type": "markdown",
   "metadata": {},
   "source": [
    "<Your written answers>"
   ]
  },
  {
   "cell_type": "code",
   "execution_count": null,
   "metadata": {},
   "outputs": [],
   "source": [
    "# Your code here. Add cells as needed."
   ]
  },
  {
   "cell_type": "markdown",
   "metadata": {},
   "source": [
    " ### Your written answers here\n",
    "\n",
    " What are the $R^2$ for the two models?\n",
    "\n",
    "  - Your answer\n",
    " \n"
   ]
  }
 ],
 "metadata": {
  "kernelspec": {
   "display_name": "base",
   "language": "python",
   "name": "python3"
  },
  "language_info": {
   "codemirror_mode": {
    "name": "ipython",
    "version": 3
   },
   "file_extension": ".py",
   "mimetype": "text/x-python",
   "name": "python",
   "nbconvert_exporter": "python",
   "pygments_lexer": "ipython3",
   "version": "3.12.4"
  },
  "orig_nbformat": 4
 },
 "nbformat": 4,
 "nbformat_minor": 2
}
